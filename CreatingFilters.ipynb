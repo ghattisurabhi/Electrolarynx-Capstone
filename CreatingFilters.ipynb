{
 "cells": [
  {
   "cell_type": "markdown",
   "metadata": {},
   "source": [
    "# Creating Bandpass Filter"
   ]
  },
  {
   "cell_type": "raw",
   "metadata": {},
   "source": [
    "After trying the speech recognition library, we realized that there was too much noise apart from the fundamental frequenncy emitted by the electrolarynx. For that reason, we decided to create butterworth bandpass filters. We tested it out on one video from each participant to see how it compared to the originial mp4 files. The filtering frequencies were determined soley by listening to each recording.The reason a butterworth bandpass filter is used is because it provides a maximal flat frequency in the passband unlike other regular passband filter.This stack exchange post was used to implement the filters:\n",
    "\n",
    "Link: https://stackoverflow.com/questions/12093594/how-to-implement-band-pass-butterworth-filter-with-scipy-signal-butter "
   ]
  },
  {
   "cell_type": "markdown",
   "metadata": {},
   "source": [
    "### Importing modules"
   ]
  },
  {
   "cell_type": "code",
   "execution_count": 2,
   "metadata": {},
   "outputs": [],
   "source": [
    "#Import modules\n",
    "import os\n",
    "import numpy as np\n",
    "import scipy\n",
    "from scipy.io import wavfile\n",
    "import scipy.fftpack as fft\n",
    "from scipy.signal import get_window\n",
    "import IPython.display as ipd\n",
    "import matplotlib.pyplot as plt"
   ]
  },
  {
   "cell_type": "markdown",
   "metadata": {},
   "source": [
    "### Definining the functions"
   ]
  },
  {
   "cell_type": "code",
   "execution_count": 3,
   "metadata": {},
   "outputs": [],
   "source": [
    "#The parameters used in butter_bandpass:\n",
    "#lowcut = the lowest cutoff frequency you want to use\n",
    "#highcut = the highest cutoff frequency you want to use\n",
    "#fs = the sampling rate\n",
    "#order = the order of the filter\n",
    "\n",
    "def butter_bandpass(lowcut, highcut, fs, order=5):\n",
    "    nyq = 0.5 * fs\n",
    "    low = lowcut / nyq\n",
    "    high = highcut / nyq\n",
    "    #b,a represent the polynomials for the numerator and denominator of the IIR Filter\n",
    "    b, a = butter(order, [low, high], btype='band')\n",
    "    return b, a\n",
    "\n",
    "\n",
    "#The parameters used in butter_bandpass_filter\n",
    "#data= the wav.file to input\n",
    "def butter_bandpass_filter(data, lowcut, highcut, fs, order=5):\n",
    "    b, a = butter_bandpass(lowcut, highcut, fs, order=order)\n",
    "    #the lfilter does the act of filtering\n",
    "    y = lfilter(b, a, data)\n",
    "    return y\n",
    "\n",
    "def bandpass_filter(buffer):\n",
    "    return butter_bandpass_filter(buffer, lowcut, highcut, FRAME_RATE, order=6)"
   ]
  },
  {
   "cell_type": "raw",
   "metadata": {},
   "source": [
    "The frequency choosing process for led us to see the most reduction of noise when the lowcut value was 500 Hz and the highcut value was 2000 Hz. The sampling rate of the videos was 44100 Hz. These videos were later used to get MFCCs and were put through a simple DNN, but the prediction capability was seen to be 0%.\n",
    "\n",
    "This is a good area for improvement by recording the frequency of the electorlarynx and emitting every other frequency to remove more noise. "
   ]
  },
  {
   "cell_type": "code",
   "execution_count": null,
   "metadata": {},
   "outputs": [],
   "source": []
  }
 ],
 "metadata": {
  "kernelspec": {
   "display_name": "Python 3",
   "language": "python",
   "name": "python3"
  },
  "language_info": {
   "codemirror_mode": {
    "name": "ipython",
    "version": 3
   },
   "file_extension": ".py",
   "mimetype": "text/x-python",
   "name": "python",
   "nbconvert_exporter": "python",
   "pygments_lexer": "ipython3",
   "version": "3.8.8"
  }
 },
 "nbformat": 4,
 "nbformat_minor": 4
}
