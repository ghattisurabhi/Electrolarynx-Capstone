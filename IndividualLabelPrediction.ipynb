{
 "cells": [
  {
   "cell_type": "markdown",
   "metadata": {},
   "source": [
    "# Trying to Predict Indiviudal Words: the, strikes, when, sunlight, in, air, raindrops"
   ]
  },
  {
   "cell_type": "raw",
   "metadata": {},
   "source": [
    "After seeing that the used MFCCs provided no real prediction capabilities, we tried to see if we could individually alter the videos using the software Audacity. We used the first 6 videos of the Rainbow Passage from Participant 1 and used the sentence: \"When the sunlight strikes raindrops in the air.\" From there, each word of this sentence was broken into individual wav files to construct a new dataset of 18 files. This code can be modified to just include the new recorded videos that will use for future iterations. The github repo used for this code is: https://github.com/markadivalerio/audio-classifier-project/blob/master/audio-classifier-project.ipynb "
   ]
  },
  {
   "cell_type": "markdown",
   "metadata": {},
   "source": [
    "## Importing Needed Modules"
   ]
  },
  {
   "cell_type": "code",
   "execution_count": 2,
   "metadata": {},
   "outputs": [],
   "source": [
    "import warnings\n",
    "warnings.filterwarnings(\"ignore\")\n",
    "\n",
    "import re\n",
    "import os\n",
    "import random\n",
    "from datetime import datetime\n",
    "\n",
    "import librosa\n",
    "from scipy.io import wavfile\n",
    "import numpy as np\n",
    "import pandas as pd\n",
    "import sklearn as sk\n",
    "import tensorflow as tf\n",
    "import keras\n",
    "from keras.callbacks import ModelCheckpoint \n",
    "from keras.models import Sequential, model_from_json\n",
    "from keras.layers import Dense\n",
    "from tensorflow.keras.optimizers import Adam, SGD, RMSprop\n",
    "from sklearn import model_selection\n",
    "from sklearn.metrics import confusion_matrix\n",
    "\n",
    "import IPython.display as ipd\n",
    "import matplotlib.pyplot as plt\n",
    "%matplotlib inline\n",
    "plt.style.use('ggplot')"
   ]
  },
  {
   "cell_type": "code",
   "execution_count": 26,
   "metadata": {},
   "outputs": [],
   "source": [
    "### Training / Fitting / Optimizing Model #####\n",
    "test_size = 0.2\n",
    "epochs    = 50\n",
    "batch_size= 40\n",
    "optimizer = Adam(learning_rate=0.001, beta_1=0.9, beta_2=0.999, amsgrad=False)\n",
    "\n",
    "do_model_analysis = False"
   ]
  },
  {
   "cell_type": "markdown",
   "metadata": {},
   "source": [
    "## Helper Functions"
   ]
  },
  {
   "cell_type": "code",
   "execution_count": 18,
   "metadata": {},
   "outputs": [],
   "source": [
    "def extract_features(file_name):\n",
    "    \"\"\"\n",
    "    Extracts 193 chromatographic features from sound file. \n",
    "    including: MFCC's, Chroma_StFt, Melspectrogram, Spectral Contrast, and Tonnetz\n",
    "    NOTE: this extraction technique changes the time series nature of the data\n",
    "    \"\"\"\n",
    "    features = []\n",
    "    \n",
    "    audio_data, sample_rate = librosa.load(file_name)\n",
    "    #stft = np.abs(librosa.stft(audio_data))\n",
    "    \n",
    "    mfcc = np.mean(librosa.feature.mfcc(y=audio_data, sr=sample_rate, n_mfcc=40).T,axis=0)\n",
    "    features.extend(mfcc) # 40 = 40\n",
    "    \n",
    "    #chroma = np.mean(librosa.feature.chroma_stft(S=stft, sr=sample_rate).T,axis=0)\n",
    "    #features.extend(chroma) # 12 = 52\n",
    "    \n",
    "    mel = np.mean(librosa.feature.melspectrogram(audio_data, sr=sample_rate).T,axis=0)\n",
    "    features.extend(mel) # 128 = 180\n",
    "    \n",
    "    #contrast = np.mean(librosa.feature.spectral_contrast(S=stft, sr=sample_rate).T,axis=0)\n",
    "    #features.extend(contrast) # 7 = 187\n",
    "\n",
    "# More possible features to add\n",
    "#     tonnetz = np.mean(librosa.feature.tonnetz(y=librosa.effects.harmonic(X, ), sr=sample_rate).T,axis=0)\n",
    "#     spec_cent = np.mean(librosa.feature.spectral_centroid(y=audio_data, sr=sample_rate).T, axis=0)\n",
    "#     spec_bw = np.mean(librosa.feature.spectral_bandwidth(y=audio_data, sr=sample_rate).T, axis=0)\n",
    "#     rolloff = np.mean(librosa.feature.spectral_rolloff(y=audio_data, sr=sample_rate).T, axis=0)\n",
    "#     zcr = np.mean(librosa.feature.zero_crossing_rate(audio_data).T, axis=0)\n",
    "#     features.extend(tonnetz) # 6 = 193\n",
    "#     features.extend(spec_cent)\n",
    "#     features.extend(spec_bw)\n",
    "#     features.extend(rolloff)\n",
    "#     features.extend(zcr)\n",
    "\n",
    "    return np.array(features)"
   ]
  },
  {
   "cell_type": "code",
   "execution_count": 5,
   "metadata": {},
   "outputs": [],
   "source": [
    "def display_wav(file = None):\n",
    "    # Displays comparison of loading a wav file via librosa vs via scipy\n",
    "    if not file:\n",
    "        print(\"No wav file to display\")\n",
    "        return\n",
    "    librosa_load, librosa_sampling_rate = librosa.load(file)\n",
    "    scipy_sampling_rate, scipy_load = wavfile.read(file)\n",
    "    print('original sample rate:',scipy_sampling_rate)\n",
    "    print('converted sample rate:',librosa_sampling_rate)\n",
    "    print('\\n')\n",
    "    print('original wav file min~max range:',np.min(scipy_load),'~',np.max(scipy_load))\n",
    "    print('converted wav file min~max range:',np.min(librosa_load),'~',np.max(librosa_load))\n",
    "    plt.figure(figsize=(12, 4))\n",
    "    plt.plot(scipy_load)\n",
    "    plt.figure(figsize=(12, 4))\n",
    "    plt.plot(librosa_load)"
   ]
  },
  {
   "cell_type": "code",
   "execution_count": 6,
   "metadata": {},
   "outputs": [],
   "source": [
    "def load_all_wav_files(files):\n",
    "    '''\n",
    "    Returns two numpy array\n",
    "    The first is a numpy array containing each audio's numerical features - see extract_features()\n",
    "    The second numpy array is the array *STRING* of the label.\n",
    "    (The array indexes align up between the two arrays. data[idx] is classified as labels[idx]) \n",
    "    '''\n",
    "    one_file = None\n",
    "    #THIS WILL TAKE A WHILE!!!!!\n",
    "    all_data = []\n",
    "    all_labels = []\n",
    "#SHORTCUT\n",
    "# This is in here for quick tests - only loads first Ultrasound8k folder (instead of all of them)\n",
    "#             if len(all_data) > 0: \n",
    "#                 break\n",
    "#END SHORTCUT\n",
    "    for idx, file in enumerate(files):\n",
    "        if file.find('air')!=-1:\n",
    "            features = extract_features(file)\n",
    "            label = \"air\"\n",
    "            all_data.append(features)\n",
    "            all_labels.append(label)\n",
    "#                     display_wav(fname)\n",
    "#                     break\n",
    "        if file.find('in')!=1:\n",
    "            features = extract_features(file)\n",
    "            label = \"in\"\n",
    "            all_data.append(features)\n",
    "            all_labels.append(label)\n",
    "        if file.find('raindrops')!=1:\n",
    "            features = extract_features(file)\n",
    "            label = \"raindrops\"\n",
    "            all_data.append(features)\n",
    "            all_labels.append(label)\n",
    "        if file.find('strikes')!=1:\n",
    "            features = extract_features(file)\n",
    "            label = \"strikes\"\n",
    "            all_data.append(features)\n",
    "            all_labels.append(label)\n",
    "        if file.find('sunlight')!=1:\n",
    "            features = extract_features(file)\n",
    "            label = \"sunlight\"\n",
    "            all_data.append(features)\n",
    "            all_labels.append(label)\n",
    "        if file.find('when')!=1:\n",
    "            features = extract_features(file)\n",
    "            label = \"when\"\n",
    "            all_data.append(features)\n",
    "            all_labels.append(label)\n",
    "        if file.find('the')!=1:\n",
    "            features = extract_features(file)\n",
    "            label = \"the\"\n",
    "            all_data.append(features)\n",
    "            all_labels.append(label)\n",
    "    return np.array(all_data), np.array(all_labels)"
   ]
  },
  {
   "cell_type": "code",
   "execution_count": 7,
   "metadata": {},
   "outputs": [],
   "source": [
    "def analyze_features(all_data, all_labels):\n",
    "    #seeking only the numeric features from the data\n",
    "    numeric_features = all_data.select_dtypes(include = [np.number])\n",
    "    print(numeric_features.dtypes)\n",
    "    corr = numeric_features.corr()\n",
    "    print(corr)\n",
    "#     print(corr['SalePrice'].sort_values(ascending = False)[:5], '\\n')\n",
    "#     print(corr['SalePrice'].sort_values(ascending = False)[-5:])"
   ]
  },
  {
   "cell_type": "code",
   "execution_count": 8,
   "metadata": {},
   "outputs": [],
   "source": [
    "def plot_history(history = None):\n",
    "    # Plots accuracy & loss versus epochs\n",
    "    if not history:\n",
    "        print(\"No history to plot\")\n",
    "        return\n",
    "    fig = plt.figure(figsize=(10,8))\n",
    "#     fig = plt.figure(figsize=(20,16))\n",
    "    plt.plot(history.history['loss'], label=\"Loss\")\n",
    "    plt.plot(history.history['accuracy'], label=\"Accuracy\")\n",
    "    plt.axis([0,90,0,1.1])\n",
    "    plt.title(\"Accuracy and Loss vs Epoch\")\n",
    "    plt.xlabel(\"Epoch\")\n",
    "    plt.ylabel(\"Percentage\")\n",
    "    plt.legend()\n",
    "    plt.show()"
   ]
  },
  {
   "cell_type": "markdown",
   "metadata": {},
   "source": [
    "## Creating the Data"
   ]
  },
  {
   "cell_type": "code",
   "execution_count": 9,
   "metadata": {},
   "outputs": [
    {
     "name": "stdout",
     "output_type": "stream",
     "text": [
      "['/scratch/sg2dk/Capstone_Part2/words/5.mp4_raindrops.wav', '/scratch/sg2dk/Capstone_Part2/words/3.mp4_air.wav', '/scratch/sg2dk/Capstone_Part2/words/2.mp4_the.wav', '/scratch/sg2dk/Capstone_Part2/words/3.mp4_raindrops.wav', '/scratch/sg2dk/Capstone_Part2/words/4.mp4_raindrops.wav', '/scratch/sg2dk/Capstone_Part2/words/3.mp4_strikes.wav', '/scratch/sg2dk/Capstone_Part2/words/4.mp4_the.wav', '/scratch/sg2dk/Capstone_Part2/words/4.mp4_the2.wav', '/scratch/sg2dk/Capstone_Part2/words/5.mp4_the2.wav', '/scratch/sg2dk/Capstone_Part2/words/3.mp4_in.wav', '/scratch/sg2dk/Capstone_Part2/words/2.mp4_strikes.wav', '/scratch/sg2dk/Capstone_Part2/words/4.mp4_in.wav', '/scratch/sg2dk/Capstone_Part2/words/3.mp4_the2.wav', '/scratch/sg2dk/Capstone_Part2/words/5.mp4_air.wav', '/scratch/sg2dk/Capstone_Part2/words/2.mp4_raindrops.wav', '/scratch/sg2dk/Capstone_Part2/words/2.mp4_the2.wav', '/scratch/sg2dk/Capstone_Part2/words/5.mp4_in.wav', '/scratch/sg2dk/Capstone_Part2/words/4.mp4_strikes.wav', '/scratch/sg2dk/Capstone_Part2/words/5.mp4_the.wav', '/scratch/sg2dk/Capstone_Part2/words/3.mp4_when.wav', '/scratch/sg2dk/Capstone_Part2/words/2.mp4_when.wav', '/scratch/sg2dk/Capstone_Part2/words/5.mp4_strikes.wav', '/scratch/sg2dk/Capstone_Part2/words/4.mp4_sunlight.wav', '/scratch/sg2dk/Capstone_Part2/words/4.mp4_air.wav', '/scratch/sg2dk/Capstone_Part2/words/5.mp4_sunlight.wav', '/scratch/sg2dk/Capstone_Part2/words/2.mp4_in.wav', '/scratch/sg2dk/Capstone_Part2/words/4.mp4_when.wav', '/scratch/sg2dk/Capstone_Part2/words/5.mp4_when.wav', '/scratch/sg2dk/Capstone_Part2/words/3.mp4_sunlight.wav', '/scratch/sg2dk/Capstone_Part2/words/2.mp4_air.wav', '/scratch/sg2dk/Capstone_Part2/words/2.mp4_sunlight.wav', '/scratch/sg2dk/Capstone_Part2/words/3.mp4_the.wav']\n"
     ]
    }
   ],
   "source": [
    "#creating the list of filenames\n",
    "import glob\n",
    "DATA_DIR = glob.glob('/scratch/sg2dk/Capstone_Part2/words/*.wav')\n",
    "files=[]\n",
    "# Shuffle\n",
    "\n",
    "for flist in DATA_DIR:\n",
    "    files.append(flist)\n",
    "    ipd.Audio(flist)\n",
    "print(files)"
   ]
  },
  {
   "cell_type": "code",
   "execution_count": 10,
   "metadata": {},
   "outputs": [],
   "source": [
    "all_data = np.array([])\n",
    "all_labels_list = []\n",
    "all_labels = np.array([])\n",
    "one_file = None\n",
    "\n",
    "all_data, all_labels= load_all_wav_files(files)"
   ]
  },
  {
   "cell_type": "code",
   "execution_count": 19,
   "metadata": {},
   "outputs": [
    {
     "name": "stdout",
     "output_type": "stream",
     "text": [
      "(196, 168)\n",
      "['in', 'the', 'sunlight', 'air', 'raindrops', 'strikes', 'when']\n"
     ]
    }
   ],
   "source": [
    "print(all_data.shape)\n",
    "classes = list(set(all_labels)) # classes = unique list of labels\n",
    "n_classes = len(classes)\n",
    "numeric_labels = np.array([classes.index(label) for label in all_labels]) # labels by index\n",
    "print(classes)"
   ]
  },
  {
   "cell_type": "code",
   "execution_count": 27,
   "metadata": {},
   "outputs": [
    {
     "name": "stdout",
     "output_type": "stream",
     "text": [
      "(156, 168)\n",
      "(156,)\n",
      "(40, 168)\n",
      "(40,)\n"
     ]
    }
   ],
   "source": [
    "x_train, x_test, y_train, y_test = sk.model_selection.train_test_split(all_data, numeric_labels, test_size=test_size, random_state = 0, shuffle=True)\n",
    "print(x_train.shape)\n",
    "print(y_train.shape)\n",
    "print(x_test.shape)\n",
    "print(y_test.shape)"
   ]
  },
  {
   "cell_type": "markdown",
   "metadata": {},
   "source": [
    "## Creating the Model"
   ]
  },
  {
   "cell_type": "code",
   "execution_count": 28,
   "metadata": {},
   "outputs": [
    {
     "name": "stdout",
     "output_type": "stream",
     "text": [
      "Model: \"sequential_2\"\n",
      "_________________________________________________________________\n",
      "Layer (type)                 Output Shape              Param #   \n",
      "=================================================================\n",
      "dense_6 (Dense)              (None, 48)                8112      \n",
      "_________________________________________________________________\n",
      "dense_7 (Dense)              (None, 96)                4704      \n",
      "_________________________________________________________________\n",
      "dense_8 (Dense)              (None, 7)                 679       \n",
      "=================================================================\n",
      "Total params: 13,495\n",
      "Trainable params: 13,495\n",
      "Non-trainable params: 0\n",
      "_________________________________________________________________\n"
     ]
    }
   ],
   "source": [
    "from keras.layers import Dense, Activation, Flatten, Dropout, BatchNormalization\n",
    "from keras.layers import Conv2D, MaxPooling2D\n",
    "from keras import regularizers, optimizers\n",
    "from keras import layers\n",
    "from keras import models\n",
    "from keras.layers.advanced_activations import LeakyReLU\n",
    "\n",
    "model = Sequential()\n",
    "model.add(Dense(48, input_dim=x_train.shape[1]))\n",
    "model.add(Dense(96, activation = 'relu'))\n",
    "model.add(Dense(n_classes, activation='softmax'))\n",
    "model.compile(loss='sparse_categorical_crossentropy', optimizer=optimizer, metrics=['accuracy'])\n",
    "model.summary()"
   ]
  },
  {
   "cell_type": "code",
   "execution_count": 29,
   "metadata": {},
   "outputs": [
    {
     "name": "stdout",
     "output_type": "stream",
     "text": [
      "Epoch 1/50\n",
      "4/4 - 0s - loss: 52.7873 - accuracy: 0.1538 - val_loss: 23.9759 - val_accuracy: 0.1500\n",
      "Epoch 2/50\n",
      "4/4 - 0s - loss: 30.2537 - accuracy: 0.1410 - val_loss: 16.2601 - val_accuracy: 0.2000\n",
      "Epoch 3/50\n",
      "4/4 - 0s - loss: 21.8588 - accuracy: 0.1538 - val_loss: 11.7357 - val_accuracy: 0.2000\n",
      "Epoch 4/50\n",
      "4/4 - 0s - loss: 11.7262 - accuracy: 0.1538 - val_loss: 5.1517 - val_accuracy: 0.1250\n",
      "Epoch 5/50\n",
      "4/4 - 0s - loss: 7.6371 - accuracy: 0.1603 - val_loss: 6.5744 - val_accuracy: 0.1500\n",
      "Epoch 6/50\n",
      "4/4 - 0s - loss: 7.0761 - accuracy: 0.1346 - val_loss: 6.1505 - val_accuracy: 0.1000\n",
      "Epoch 7/50\n",
      "4/4 - 0s - loss: 6.6654 - accuracy: 0.1346 - val_loss: 4.8395 - val_accuracy: 0.1750\n",
      "Epoch 8/50\n",
      "4/4 - 0s - loss: 4.1333 - accuracy: 0.1474 - val_loss: 3.9242 - val_accuracy: 0.1000\n",
      "Epoch 9/50\n",
      "4/4 - 0s - loss: 3.4197 - accuracy: 0.1218 - val_loss: 3.1093 - val_accuracy: 0.1250\n",
      "Epoch 10/50\n",
      "4/4 - 0s - loss: 2.9599 - accuracy: 0.1795 - val_loss: 3.1555 - val_accuracy: 0.1500\n",
      "Epoch 11/50\n",
      "4/4 - 0s - loss: 3.0890 - accuracy: 0.1474 - val_loss: 3.3010 - val_accuracy: 0.0500\n",
      "Epoch 12/50\n",
      "4/4 - 0s - loss: 2.5275 - accuracy: 0.1859 - val_loss: 2.6837 - val_accuracy: 0.2000\n",
      "Epoch 13/50\n",
      "4/4 - 0s - loss: 2.3999 - accuracy: 0.1346 - val_loss: 2.8285 - val_accuracy: 0.0750\n",
      "Epoch 14/50\n",
      "4/4 - 0s - loss: 2.3379 - accuracy: 0.1731 - val_loss: 2.4820 - val_accuracy: 0.0750\n",
      "Epoch 15/50\n",
      "4/4 - 0s - loss: 2.1439 - accuracy: 0.1538 - val_loss: 2.3996 - val_accuracy: 0.1500\n",
      "Epoch 16/50\n",
      "4/4 - 0s - loss: 2.0968 - accuracy: 0.1667 - val_loss: 2.3036 - val_accuracy: 0.0500\n",
      "Epoch 17/50\n",
      "4/4 - 0s - loss: 2.1744 - accuracy: 0.1603 - val_loss: 2.4314 - val_accuracy: 0.1250\n",
      "Epoch 18/50\n",
      "4/4 - 0s - loss: 2.0764 - accuracy: 0.1667 - val_loss: 2.4002 - val_accuracy: 0.2000\n",
      "Epoch 19/50\n",
      "4/4 - 0s - loss: 2.2533 - accuracy: 0.1731 - val_loss: 2.5497 - val_accuracy: 0.1250\n",
      "Epoch 20/50\n",
      "4/4 - 0s - loss: 2.1389 - accuracy: 0.1410 - val_loss: 2.5188 - val_accuracy: 0.0750\n",
      "Epoch 21/50\n",
      "4/4 - 0s - loss: 2.2406 - accuracy: 0.1410 - val_loss: 2.5266 - val_accuracy: 0.1000\n",
      "Epoch 22/50\n",
      "4/4 - 0s - loss: 2.1240 - accuracy: 0.1987 - val_loss: 2.3597 - val_accuracy: 0.1000\n",
      "Epoch 23/50\n",
      "4/4 - 0s - loss: 2.0288 - accuracy: 0.1859 - val_loss: 2.3684 - val_accuracy: 0.1500\n",
      "Epoch 24/50\n",
      "4/4 - 0s - loss: 2.0985 - accuracy: 0.1667 - val_loss: 2.6271 - val_accuracy: 0.0750\n",
      "Epoch 25/50\n",
      "4/4 - 0s - loss: 2.2517 - accuracy: 0.1346 - val_loss: 2.1913 - val_accuracy: 0.1250\n",
      "Epoch 26/50\n",
      "4/4 - 0s - loss: 2.0931 - accuracy: 0.1987 - val_loss: 2.2507 - val_accuracy: 0.0750\n",
      "Epoch 27/50\n",
      "4/4 - 0s - loss: 2.1283 - accuracy: 0.1731 - val_loss: 2.5141 - val_accuracy: 0.0750\n",
      "Epoch 28/50\n",
      "4/4 - 0s - loss: 2.1660 - accuracy: 0.1923 - val_loss: 2.6780 - val_accuracy: 0.1000\n",
      "Epoch 29/50\n",
      "4/4 - 0s - loss: 2.2467 - accuracy: 0.2179 - val_loss: 2.6475 - val_accuracy: 0.0750\n",
      "Epoch 30/50\n",
      "4/4 - 0s - loss: 2.2798 - accuracy: 0.1795 - val_loss: 2.5965 - val_accuracy: 0.1500\n",
      "Epoch 31/50\n",
      "4/4 - 0s - loss: 2.2430 - accuracy: 0.1795 - val_loss: 2.3424 - val_accuracy: 0.1250\n",
      "Epoch 32/50\n",
      "4/4 - 0s - loss: 2.1163 - accuracy: 0.1795 - val_loss: 2.7278 - val_accuracy: 0.0750\n",
      "Epoch 33/50\n",
      "4/4 - 0s - loss: 2.1788 - accuracy: 0.1667 - val_loss: 2.2776 - val_accuracy: 0.1500\n",
      "Epoch 34/50\n",
      "4/4 - 0s - loss: 2.2826 - accuracy: 0.1538 - val_loss: 2.5654 - val_accuracy: 0.0250\n",
      "Epoch 35/50\n",
      "4/4 - 0s - loss: 2.2360 - accuracy: 0.1667 - val_loss: 2.6164 - val_accuracy: 0.1250\n",
      "Epoch 36/50\n",
      "4/4 - 0s - loss: 2.1750 - accuracy: 0.1731 - val_loss: 2.7696 - val_accuracy: 0.0750\n",
      "Epoch 37/50\n",
      "4/4 - 0s - loss: 2.4201 - accuracy: 0.1987 - val_loss: 2.2143 - val_accuracy: 0.1500\n",
      "Epoch 38/50\n",
      "4/4 - 0s - loss: 2.0125 - accuracy: 0.2115 - val_loss: 2.6807 - val_accuracy: 0.0750\n",
      "Epoch 39/50\n",
      "4/4 - 0s - loss: 2.1434 - accuracy: 0.1731 - val_loss: 2.3344 - val_accuracy: 0.0500\n",
      "Epoch 40/50\n",
      "4/4 - 0s - loss: 2.0113 - accuracy: 0.1923 - val_loss: 2.4067 - val_accuracy: 0.1250\n",
      "Epoch 41/50\n",
      "4/4 - 0s - loss: 2.0715 - accuracy: 0.1731 - val_loss: 2.4469 - val_accuracy: 0.1000\n",
      "Epoch 42/50\n",
      "4/4 - 0s - loss: 2.2681 - accuracy: 0.1410 - val_loss: 2.4722 - val_accuracy: 0.1750\n",
      "Epoch 43/50\n",
      "4/4 - 0s - loss: 2.3604 - accuracy: 0.1538 - val_loss: 2.9978 - val_accuracy: 0.0750\n",
      "Epoch 44/50\n",
      "4/4 - 0s - loss: 2.4251 - accuracy: 0.1538 - val_loss: 2.4976 - val_accuracy: 0.1250\n",
      "Epoch 45/50\n",
      "4/4 - 0s - loss: 2.2034 - accuracy: 0.2051 - val_loss: 2.6245 - val_accuracy: 0.0500\n",
      "Epoch 46/50\n",
      "4/4 - 0s - loss: 2.4616 - accuracy: 0.1218 - val_loss: 2.6124 - val_accuracy: 0.0750\n",
      "Epoch 47/50\n",
      "4/4 - 0s - loss: 2.3911 - accuracy: 0.1795 - val_loss: 2.4818 - val_accuracy: 0.1000\n",
      "Epoch 48/50\n",
      "4/4 - 0s - loss: 2.4380 - accuracy: 0.1603 - val_loss: 2.5148 - val_accuracy: 0.1250\n",
      "Epoch 49/50\n",
      "4/4 - 0s - loss: 2.2587 - accuracy: 0.1603 - val_loss: 2.7121 - val_accuracy: 0.1000\n",
      "Epoch 50/50\n",
      "4/4 - 0s - loss: 2.2068 - accuracy: 0.1667 - val_loss: 2.6960 - val_accuracy: 0.1500\n"
     ]
    }
   ],
   "source": [
    "history = model.fit(x_train, y_train,\n",
    "                    epochs=epochs,\n",
    "                    batch_size=batch_size,\n",
    "                    validation_data=(x_test, y_test),\n",
    "#                         shuffle=True,\n",
    "                    verbose=2)"
   ]
  },
  {
   "cell_type": "code",
   "execution_count": 30,
   "metadata": {},
   "outputs": [
    {
     "name": "stdout",
     "output_type": "stream",
     "text": [
      "Training Accuracy:  0.1666666716337204\n",
      "Training Cross Entropy: 2.33\n",
      "Testing Accuracy:  0.15000000596046448\n",
      "Testing Cross Entropy: 2.70\n"
     ]
    }
   ],
   "source": [
    "score_train = model.evaluate(x_train, y_train, verbose=0)\n",
    "print(\"Training Accuracy: \", score_train[1])\n",
    "print(\"Training Cross Entropy: %.2f\" % score_train[0])\n",
    "\n",
    "score_test = model.evaluate(x_test, y_test, verbose=0)\n",
    "print(\"Testing Accuracy: \", score_test[1])\n",
    "print(\"Testing Cross Entropy: %.2f\" % score_test[0])"
   ]
  },
  {
   "cell_type": "markdown",
   "metadata": {},
   "source": [
    "## Plotting the Results"
   ]
  },
  {
   "cell_type": "code",
   "execution_count": 31,
   "metadata": {},
   "outputs": [
    {
     "data": {
      "image/png": "[encoded data removed]",
      "text/plain": [
       "<Figure size 432x288 with 1 Axes>"
      ]
     },
     "metadata": {},
     "output_type": "display_data"
    },
    {
     "data": {
      "image/png": "[encoded data removed]",
      "text/plain": [
       "<Figure size 432x288 with 1 Axes>"
      ]
     },
     "metadata": {},
     "output_type": "display_data"
    }
   ],
   "source": [
    "plt.plot(history.history['accuracy'])\n",
    "plt.plot(history.history['val_accuracy'])\n",
    "plt.title('Individual Label Accuracy')\n",
    "plt.ylabel('Accuracy')\n",
    "plt.xlabel('Epoch')\n",
    "plt.legend(['train', 'test'], loc='lower right')\n",
    "plt.savefig(\"LabelAccuracy.png\")\n",
    "plt.show()\n",
    "# summarize history for loss\n",
    "plt.plot(history.history['loss'])\n",
    "plt.plot(history.history['val_loss'])\n",
    "plt.title('model loss')\n",
    "plt.ylabel('loss')\n",
    "plt.xlabel('epoch')\n",
    "plt.legend(['train', 'test'], loc='upper left')\n",
    "plt.show()\n",
    "#32, 32 lstm, w/ mel, chroma, zcr, mfcc, sp_centroid, sp_rolloff\n",
    "#sgd 0.01\n",
    "#***"
   ]
  },
  {
   "cell_type": "code",
   "execution_count": null,
   "metadata": {},
   "outputs": [],
   "source": []
  }
 ],
 "metadata": {
  "kernelspec": {
   "display_name": "Python 3",
   "language": "python",
   "name": "python3"
  },
  "language_info": {
   "codemirror_mode": {
    "name": "ipython",
    "version": 3
   },
   "file_extension": ".py",
   "mimetype": "text/x-python",
   "name": "python",
   "nbconvert_exporter": "python",
   "pygments_lexer": "ipython3",
   "version": "3.8.8"
  }
 },
 "nbformat": 4,
 "nbformat_minor": 4
}
